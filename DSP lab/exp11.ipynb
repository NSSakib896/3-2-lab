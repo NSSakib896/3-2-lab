{
 "cells": [
  {
   "cell_type": "code",
   "execution_count": null,
   "metadata": {},
   "outputs": [],
   "source": [
    "import numpy as np\n",
    "import matplotlib.pyplot as plt\n",
    "from scipy.signal import firwin, freqz\n",
    "\n",
    "# Filter specifications\n",
    "M = 32  # Filter length\n",
    "fs = 1.0  # Sampling frequency\n",
    "\n",
    "# Passband edge frequencies\n",
    "fp1 = 0.2\n",
    "fp2 = 0.35\n",
    "\n",
    "# Stopband edge frequencies\n",
    "fs1 = 0.1\n",
    "fs2 = 0.425\n",
    "\n",
    "# Calculate filter parameters\n",
    "nyquist = 0.5 * fs\n",
    "passband_edges = [fp1, fp2]\n",
    "stopband_edges = [fs1, fs2]\n",
    "\n",
    "# Design the bandpass filter using firwin\n",
    "taps = firwin(M, passband_edges, fs=fs, pass_zero=False, window='hamming')\n",
    "\n",
    "# Frequency response of the filter\n",
    "frequency_response = freqz(taps, worN=8000, fs=fs)\n",
    "\n",
    "# Plot the frequency response\n",
    "plt.figure(figsize=(10, 6))\n",
    "plt.plot(0.5 * fs * frequency_response[0] / np.pi, np.abs(frequency_response[1]), 'b-', label='Filter response')\n",
    "plt.title('Bandpass Filter Frequency Response')\n",
    "plt.xlabel('Frequency [Hz]')\n",
    "plt.ylabel('Gain')\n",
    "plt.grid()\n",
    "plt.show()"
   ]
  }
 ],
 "metadata": {
  "language_info": {
   "name": "python"
  }
 },
 "nbformat": 4,
 "nbformat_minor": 2
}
