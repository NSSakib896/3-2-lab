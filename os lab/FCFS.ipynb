{
 "cells": [
  {
   "cell_type": "code",
   "execution_count": 15,
   "metadata": {},
   "outputs": [
    {
     "name": "stdout",
     "output_type": "stream",
     "text": [
      "[['p1', 0, 9], ['p2', 1, 3], ['p3', 1, 2]]\n"
     ]
    }
   ],
   "source": [
    "from input import take_input\n",
    "process_list=take_input()"
   ]
  },
  {
   "cell_type": "code",
   "execution_count": null,
   "metadata": {},
   "outputs": [],
   "source": [
    "#process name,arrival time,burst time\n",
    "process_list=[['p2',1,3],\n",
    "              ['p1',0,9],\n",
    "              ['p3',1,2],]\n",
    "process_list.sort(key = lambda x:x[1])\n",
    "process_list"
   ]
  },
  {
   "cell_type": "code",
   "execution_count": 16,
   "metadata": {},
   "outputs": [],
   "source": [
    "#p_id,ct\n",
    "process_info=[]"
   ]
  },
  {
   "cell_type": "code",
   "execution_count": 17,
   "metadata": {},
   "outputs": [
    {
     "data": {
      "text/plain": [
       "[['p1', 9], ['p2', 12], ['p3', 14]]"
      ]
     },
     "execution_count": 17,
     "metadata": {},
     "output_type": "execute_result"
    }
   ],
   "source": [
    "current_time=0\n",
    "for i in range(len(process_list)):\n",
    "    process_name=process_list[i][0]\n",
    "    at=process_list[i][1]\n",
    "    bt=process_list[i][2]\n",
    "    if current_time>=at:\n",
    "        current_time=current_time+bt\n",
    "    else:\n",
    "        current_time=at+bt\n",
    "    ct=current_time\n",
    "    process_info.append([process_name,ct])\n",
    "process_info"
   ]
  },
  {
   "cell_type": "code",
   "execution_count": 19,
   "metadata": {},
   "outputs": [
    {
     "name": "stdout",
     "output_type": "stream",
     "text": [
      "['p_id', 'p_tat', 'p_wt']\n",
      "['p1', 9, 0]\n",
      "['p2', 11, 8]\n",
      "['p3', 13, 11]\n",
      "average tat = 11.0\n",
      "average wt = 6.333333333333333\n"
     ]
    }
   ],
   "source": [
    "from calculate import calculate_parameters\n",
    "calculate_parameters(process_list,process_info)"
   ]
  },
  {
   "cell_type": "code",
   "execution_count": 20,
   "metadata": {},
   "outputs": [
    {
     "ename": "NameError",
     "evalue": "name 't' is not defined",
     "output_type": "error",
     "traceback": [
      "\u001b[0;31m---------------------------------------------------------------------------\u001b[0m",
      "\u001b[0;31mNameError\u001b[0m                                 Traceback (most recent call last)",
      "Cell \u001b[0;32mIn[20], line 1\u001b[0m\n\u001b[0;32m----> 1\u001b[0m \u001b[38;5;28mprint\u001b[39m(t)\n",
      "\u001b[0;31mNameError\u001b[0m: name 't' is not defined"
     ]
    }
   ],
   "source": [
    "print(t)"
   ]
  },
  {
   "cell_type": "code",
   "execution_count": null,
   "metadata": {},
   "outputs": [],
   "source": []
  }
 ],
 "metadata": {
  "kernelspec": {
   "display_name": "base",
   "language": "python",
   "name": "python3"
  },
  "language_info": {
   "codemirror_mode": {
    "name": "ipython",
    "version": 3
   },
   "file_extension": ".py",
   "mimetype": "text/x-python",
   "name": "python",
   "nbconvert_exporter": "python",
   "pygments_lexer": "ipython3",
   "version": "3.11.7"
  }
 },
 "nbformat": 4,
 "nbformat_minor": 2
}
