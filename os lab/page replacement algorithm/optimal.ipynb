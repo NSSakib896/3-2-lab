{
 "cells": [
  {
   "cell_type": "code",
   "execution_count": 427,
   "metadata": {},
   "outputs": [],
   "source": [
    "import numpy as np "
   ]
  },
  {
   "cell_type": "code",
   "execution_count": 428,
   "metadata": {},
   "outputs": [
    {
     "ename": "ValueError",
     "evalue": "invalid literal for int() with base 10: ''",
     "output_type": "error",
     "traceback": [
      "\u001b[1;31m---------------------------------------------------------------------------\u001b[0m",
      "\u001b[1;31mValueError\u001b[0m                                Traceback (most recent call last)",
      "Cell \u001b[1;32mIn[428], line 1\u001b[0m\n\u001b[1;32m----> 1\u001b[0m str_length \u001b[38;5;241m=\u001b[39m \u001b[38;5;28mint\u001b[39m(\u001b[38;5;28minput\u001b[39m())\n\u001b[0;32m      2\u001b[0m \u001b[38;5;28mstr\u001b[39m \u001b[38;5;241m=\u001b[39m np\u001b[38;5;241m.\u001b[39mzeros(str_length, dtype\u001b[38;5;241m=\u001b[39m\u001b[38;5;28mint\u001b[39m)\n\u001b[0;32m      3\u001b[0m \u001b[38;5;28;01mfor\u001b[39;00m i \u001b[38;5;129;01min\u001b[39;00m \u001b[38;5;28mrange\u001b[39m(str_length):\n",
      "\u001b[1;31mValueError\u001b[0m: invalid literal for int() with base 10: ''"
     ]
    }
   ],
   "source": [
    "str_length = int(input())\n",
    "str = np.zeros(str_length, dtype=int)\n",
    "for i in range(str_length):\n",
    "    str[i] = int(input())\n",
    "str"
   ]
  },
  {
   "cell_type": "code",
   "execution_count": null,
   "metadata": {},
   "outputs": [],
   "source": [
    "frame_number = 3\n",
    "#frame = np.zeros(frame_number, dtype=int)\n",
    "frame = np.array([-1, -1, -1])"
   ]
  },
  {
   "cell_type": "code",
   "execution_count": null,
   "metadata": {},
   "outputs": [],
   "source": [
    "def find_optimal_replace_index(current_index,str,frame):\n",
    "    if -1 in frame:\n",
    "        return np.where(frame == -1)[0][0]\n",
    "    \n",
    "    farthest_index = -1\n",
    "    most_distance = 0\n",
    "    for i in range(len(frame)):\n",
    "        \n",
    "        for j in range(current_index+1,len(str)):\n",
    "            if frame[i]==str[j]:\n",
    "                break\n",
    "            #if problem remove below comment\n",
    "            #j+=1\n",
    "            if j>most_distance:\n",
    "                most_distance=j\n",
    "                farthest_index=i\n",
    "    return farthest_index"
   ]
  },
  {
   "cell_type": "code",
   "execution_count": null,
   "metadata": {},
   "outputs": [
    {
     "name": "stdout",
     "output_type": "stream",
     "text": [
      "[ 7 -1 -1]\n",
      "[ 7  0 -1]\n",
      "[7 0 1]\n",
      "17\n",
      "4\n",
      "13\n",
      "[2 0 1]\n",
      "[2 0 1]\n",
      "8\n",
      "6\n",
      "13\n",
      "[2 0 3]\n",
      "[2 0 3]\n",
      "8\n",
      "10\n",
      "9\n",
      "[2 4 3]\n",
      "[2 4 3]\n",
      "[2 4 3]\n",
      "12\n",
      "11\n",
      "[2 0 3]\n",
      "[2 0 3]\n",
      "[2 0 3]\n",
      "14\n",
      "15\n",
      "[2 0 1]\n",
      "[2 0 1]\n",
      "[2 0 1]\n",
      "[2 0 1]\n",
      "18\n",
      "19\n",
      "[7 0 1]\n",
      "[7 0 1]\n",
      "[7 0 1]\n"
     ]
    }
   ],
   "source": [
    "\n",
    "hit_count = 0\n",
    "miss_count = 0\n",
    "current_index = 0\n",
    "for page in str:\n",
    "    if page in frame:\n",
    "        hit_count+=1\n",
    "        current_index+=1\n",
    "        continue\n",
    "    \n",
    "    miss_count+=1\n",
    "    replace_index = find_optimal_replace_index(current_index, str, frame)\n",
    "    frame[replace_index] = page\n",
    "    current_index+=1"
   ]
  },
  {
   "cell_type": "code",
   "execution_count": null,
   "metadata": {},
   "outputs": [],
   "source": [
    "if -1 in frame:\n",
    "    print(np.where(frame == -1)[0][0])"
   ]
  },
  {
   "cell_type": "code",
   "execution_count": null,
   "metadata": {},
   "outputs": [
    {
     "name": "stdout",
     "output_type": "stream",
     "text": [
      "11\n",
      "9\n"
     ]
    }
   ],
   "source": [
    "print(hit_count)\n",
    "print(miss_count)"
   ]
  },
  {
   "cell_type": "code",
   "execution_count": null,
   "metadata": {},
   "outputs": [],
   "source": []
  }
 ],
 "metadata": {
  "kernelspec": {
   "display_name": "base",
   "language": "python",
   "name": "python3"
  },
  "language_info": {
   "codemirror_mode": {
    "name": "ipython",
    "version": 3
   },
   "file_extension": ".py",
   "mimetype": "text/x-python",
   "name": "python",
   "nbconvert_exporter": "python",
   "pygments_lexer": "ipython3",
   "version": "3.11.7"
  }
 },
 "nbformat": 4,
 "nbformat_minor": 2
}
