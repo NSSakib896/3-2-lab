{
 "cells": [
  {
   "cell_type": "code",
   "execution_count": 31,
   "metadata": {},
   "outputs": [],
   "source": [
    "import numpy as np  "
   ]
  },
  {
   "cell_type": "code",
   "execution_count": 32,
   "metadata": {},
   "outputs": [],
   "source": [
    "block_number=int(input(\"Enter the number of memory blocks: \"))\n",
    "block_size=np.zeros(block_number,dtype=int)\n",
    "\n",
    "for i in range(block_number):\n",
    "    block_size[i]=int(input(\"Enter the size of block \"+str(i+1)+\": \"))\n"
   ]
  },
  {
   "cell_type": "code",
   "execution_count": 33,
   "metadata": {},
   "outputs": [],
   "source": [
    "process_number=int(input(\"Enter the number of processes: \"))\n",
    "process_size=np.zeros(process_number,dtype=int)\n",
    "\n",
    "for i in range(process_number):\n",
    "    process_size[i]=int(input(\"Enter the size of process \"+str(i+1)+\": \"))"
   ]
  },
  {
   "cell_type": "code",
   "execution_count": 38,
   "metadata": {},
   "outputs": [],
   "source": [
    "#input for block status\n",
    "free_block = np.zeros(block_number,dtype=bool)\n",
    "for i in range(block_number):\n",
    "    free_block[i] = bool(input(\"Enter 1 if block \"+str(i+1)+\"is free, 0 if block \"+str(i+1)+\"is allocated: \"))"
   ]
  },
  {
   "cell_type": "code",
   "execution_count": 34,
   "metadata": {},
   "outputs": [],
   "source": [
    "\n",
    "allocated_process = np.zeros(process_number,dtype=bool)\n",
    "\n",
    "allocation_map = [[\"process\",\"allocated block\"]]\n",
    "\n",
    "for i in range(process_number):\n",
    "    for j in range(block_number):\n",
    "        \n",
    "        if block_size[j]>=process_size[i] and  free_block[j]:\n",
    "            block_size[j] -= process_size[i]\n",
    "            allocated_process[i]=True\n",
    "            allocation_map.append([\"process \"+str(i+1),j+1])\n",
    "            \n",
    "            if block_size[j]==0:\n",
    "                free_block[j]=False\n",
    "            break\n",
    "        \n",
    "    if(allocated_process[i] == False):\n",
    "        allocation_map.append([\"process:\"+str(i+1),\"not allocated\"])"
   ]
  },
  {
   "cell_type": "code",
   "execution_count": 35,
   "metadata": {},
   "outputs": [
    {
     "data": {
      "text/plain": [
       "[['process', 'allocated block'],\n",
       " ['process:1', 2],\n",
       " ['process:2', 2],\n",
       " ['process:3', 4],\n",
       " ['process:4', 4]]"
      ]
     },
     "execution_count": 35,
     "metadata": {},
     "output_type": "execute_result"
    }
   ],
   "source": [
    "allocation_map"
   ]
  },
  {
   "cell_type": "code",
   "execution_count": 36,
   "metadata": {},
   "outputs": [
    {
     "data": {
      "text/plain": [
       "array([ 50,   0, 150,   0, 300])"
      ]
     },
     "execution_count": 36,
     "metadata": {},
     "output_type": "execute_result"
    }
   ],
   "source": [
    "block_size"
   ]
  }
 ],
 "metadata": {
  "kernelspec": {
   "display_name": "base",
   "language": "python",
   "name": "python3"
  },
  "language_info": {
   "codemirror_mode": {
    "name": "ipython",
    "version": 3
   },
   "file_extension": ".py",
   "mimetype": "text/x-python",
   "name": "python",
   "nbconvert_exporter": "python",
   "pygments_lexer": "ipython3",
   "version": "3.11.7"
  }
 },
 "nbformat": 4,
 "nbformat_minor": 2
}
