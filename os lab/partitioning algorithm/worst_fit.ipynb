{
 "cells": [
  {
   "cell_type": "code",
   "execution_count": 1,
   "metadata": {},
   "outputs": [],
   "source": [
    "import numpy as np  "
   ]
  },
  {
   "cell_type": "code",
   "execution_count": 2,
   "metadata": {},
   "outputs": [
    {
     "ename": "ValueError",
     "evalue": "invalid literal for int() with base 10: ''",
     "output_type": "error",
     "traceback": [
      "\u001b[1;31m---------------------------------------------------------------------------\u001b[0m",
      "\u001b[1;31mValueError\u001b[0m                                Traceback (most recent call last)",
      "Cell \u001b[1;32mIn[2], line 1\u001b[0m\n\u001b[1;32m----> 1\u001b[0m block_number\u001b[38;5;241m=\u001b[39m\u001b[38;5;28mint\u001b[39m(\u001b[38;5;28minput\u001b[39m(\u001b[38;5;124m\"\u001b[39m\u001b[38;5;124mEnter the number of memory blocks: \u001b[39m\u001b[38;5;124m\"\u001b[39m))\n\u001b[0;32m      2\u001b[0m block_size\u001b[38;5;241m=\u001b[39mnp\u001b[38;5;241m.\u001b[39mzeros(block_number,dtype\u001b[38;5;241m=\u001b[39m\u001b[38;5;28mint\u001b[39m)\n\u001b[0;32m      4\u001b[0m \u001b[38;5;28;01mfor\u001b[39;00m i \u001b[38;5;129;01min\u001b[39;00m \u001b[38;5;28mrange\u001b[39m(block_number):\n",
      "\u001b[1;31mValueError\u001b[0m: invalid literal for int() with base 10: ''"
     ]
    }
   ],
   "source": [
    "block_number=int(input(\"Enter the number of memory blocks: \"))\n",
    "block_size=np.zeros(block_number,dtype=int)\n",
    "\n",
    "for i in range(block_number):\n",
    "    block_size[i]=int(input(\"Enter the size of block \"+str(i+1)+\": \"))\n"
   ]
  },
  {
   "cell_type": "code",
   "execution_count": null,
   "metadata": {},
   "outputs": [
    {
     "data": {
      "text/plain": [
       "array([100,  80,  83,  75, 100])"
      ]
     },
     "metadata": {},
     "output_type": "display_data"
    }
   ],
   "source": [
    "block_size"
   ]
  },
  {
   "cell_type": "code",
   "execution_count": null,
   "metadata": {},
   "outputs": [],
   "source": [
    "process_number=int(input(\"Enter the number of processes: \"))\n",
    "process_size=np.zeros(process_number,dtype=int)\n",
    "\n",
    "for i in range(process_number):\n",
    "    process_size[i]=int(input(\"Enter the size of process \"+str(i+1)+\": \"))"
   ]
  },
  {
   "cell_type": "code",
   "execution_count": null,
   "metadata": {},
   "outputs": [
    {
     "data": {
      "text/plain": [
       "array([80])"
      ]
     },
     "metadata": {},
     "output_type": "display_data"
    }
   ],
   "source": [
    "process_size"
   ]
  },
  {
   "cell_type": "code",
   "execution_count": null,
   "metadata": {},
   "outputs": [],
   "source": [
    "#input for block status\n",
    "free_block = np.zeros(block_number,dtype=bool)\n",
    "for i in range(block_number):\n",
    "    free_block[i] = bool(input(\"Enter 1 if block \"+str(i+1)+\"is free, 0 if block \"+str(i+1)+\"is allocated: \"))"
   ]
  },
  {
   "cell_type": "code",
   "execution_count": null,
   "metadata": {},
   "outputs": [],
   "source": [
    "\n",
    "allocated_process = np.zeros(process_number,dtype=bool)\n",
    "\n",
    "allocation_map = [[\"process\",\"allocated block\"]]\n",
    "\n",
    "for i in range(process_number):\n",
    "    target_block = -1\n",
    "    for j in range(block_number):\n",
    "        \n",
    "        if block_size[j]>=process_size[i] and  free_block[j]:\n",
    "            if(target_block==-1):\n",
    "                target_block = j\n",
    "            elif(block_size[target_block]<=block_size[j]):\n",
    "                target_block = j\n",
    "            \n",
    "    if(target_block!=-1):\n",
    "        allocated_process[i] = True\n",
    "        allocation_map.append([\"process:\"+str(i+1),\"block:\"+str(target_block+1)])\n",
    "        block_size[target_block] -= process_size[i]\n",
    "        if block_size[target_block]==0:\n",
    "                free_block[target_block]=False\n",
    "        \n",
    "    if(allocated_process[i] == False):\n",
    "        allocation_map.append([\"process:\"+str(i+1),\"not allocated\"])"
   ]
  },
  {
   "cell_type": "code",
   "execution_count": null,
   "metadata": {},
   "outputs": [
    {
     "data": {
      "text/plain": [
       "[['process', 'allocated block'], ['process:1', 'block:2']]"
      ]
     },
     "metadata": {},
     "output_type": "display_data"
    }
   ],
   "source": [
    "allocation_map"
   ]
  },
  {
   "cell_type": "code",
   "execution_count": null,
   "metadata": {},
   "outputs": [
    {
     "data": {
      "text/plain": [
       "array([100,   0,  83,  75, 100])"
      ]
     },
     "metadata": {},
     "output_type": "display_data"
    }
   ],
   "source": [
    "block_size"
   ]
  }
 ],
 "metadata": {
  "kernelspec": {
   "display_name": "base",
   "language": "python",
   "name": "python3"
  },
  "language_info": {
   "codemirror_mode": {
    "name": "ipython",
    "version": 3
   },
   "file_extension": ".py",
   "mimetype": "text/x-python",
   "name": "python",
   "nbconvert_exporter": "python",
   "pygments_lexer": "ipython3",
   "version": "3.11.7"
  }
 },
 "nbformat": 4,
 "nbformat_minor": 2
}
