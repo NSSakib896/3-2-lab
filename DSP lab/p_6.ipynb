{
 "cells": [
  {
   "cell_type": "code",
   "execution_count": 2,
   "metadata": {},
   "outputs": [
    {
     "ename": "NameError",
     "evalue": "name 'librosa' is not defined",
     "output_type": "error",
     "traceback": [
      "\u001b[1;31m---------------------------------------------------------------------------\u001b[0m",
      "\u001b[1;31mNameError\u001b[0m                                 Traceback (most recent call last)",
      "Cell \u001b[1;32mIn[2], line 29\u001b[0m\n\u001b[0;32m     27\u001b[0m \u001b[38;5;66;03m# Load a speech signal from an audio file\u001b[39;00m\n\u001b[0;32m     28\u001b[0m file_path \u001b[38;5;241m=\u001b[39m \u001b[38;5;124m'\u001b[39m\u001b[38;5;124mGradio.wav\u001b[39m\u001b[38;5;124m'\u001b[39m\n\u001b[1;32m---> 29\u001b[0m signal, sample_rate \u001b[38;5;241m=\u001b[39m librosa\u001b[38;5;241m.\u001b[39mload(file_path, sr\u001b[38;5;241m=\u001b[39m\u001b[38;5;28;01mNone\u001b[39;00m)\n\u001b[0;32m     30\u001b[0m \u001b[38;5;66;03m# Parameters\u001b[39;00m\n\u001b[0;32m     31\u001b[0m frame_size \u001b[38;5;241m=\u001b[39m \u001b[38;5;241m1024\u001b[39m  \u001b[38;5;66;03m# Frame size in samples\u001b[39;00m\n",
      "\u001b[1;31mNameError\u001b[0m: name 'librosa' is not defined"
     ]
    }
   ],
   "source": [
    "import numpy as np\n",
    "#import librosa\n",
    "import matplotlib.pyplot as plt\n",
    "\n",
    "def compute_short_term_autocorrelation(signal, sample_rate, frame_size, hop_size):\n",
    "    # Number of frames\n",
    "    num_frames = 1 + (len(signal) - frame_size) // hop_size\n",
    "    # Pre-allocate the output matrix for auto-correlation results\n",
    "    auto_corr_matrix = np.zeros((num_frames, frame_size))\n",
    "    # Loop over the frames\n",
    "    for i in range(num_frames):\n",
    "        # Frame starting and ending indices\n",
    "        start_idx = i * hop_size\n",
    "        end_idx = start_idx + frame_size\n",
    "        # Extract the frame\n",
    "        frame = signal[start_idx:end_idx]\n",
    "        # Normalize the frame\n",
    "        frame = frame - np.mean(frame)\n",
    "        frame = frame / (np.std(frame) + 1e-10)\n",
    "        # Compute auto-correlation for the frame\n",
    "        auto_corr = np.correlate(frame, frame, mode='full')\n",
    "        auto_corr = auto_corr[auto_corr.size // 2:]  # Keep only the second half\n",
    "        # Store the result in the matrix\n",
    "        auto_corr_matrix[i, :] = auto_corr\n",
    "  \n",
    "    return auto_corr_matrix\n",
    "# Load a speech signal from an audio file\n",
    "file_path = 'Gradio.wav'\n",
    "signal, sample_rate = librosa.load(file_path, sr=None)\n",
    "# Parameters\n",
    "frame_size = 1024  # Frame size in samples\n",
    "hop_size = 128   # Hop size in samples\n",
    "# Compute short-term auto-correlation\n",
    "auto_corr_matrix = compute_short_term_autocorrelation(signal, sample_rate, frame_size, hop_size)\n",
    "# Plot the auto-correlation matrix\n",
    "plt.figure(figsize=(10, 6))\n",
    "plt.imshow(auto_corr_matrix.T, aspect='auto', origin='lower', extent=[0, auto_corr_matrix.shape[0], 0, frame_size])\n",
    "plt.title('Short-Term Auto-Correlation')\n",
    "plt.xlabel('Frame Index')\n",
    "plt.ylabel('Lag')\n",
    "plt.colorbar(label='Auto-correlation')\n",
    "plt.show()"
   ]
  }
 ],
 "metadata": {
  "kernelspec": {
   "display_name": "base",
   "language": "python",
   "name": "python3"
  },
  "language_info": {
   "codemirror_mode": {
    "name": "ipython",
    "version": 3
   },
   "file_extension": ".py",
   "mimetype": "text/x-python",
   "name": "python",
   "nbconvert_exporter": "python",
   "pygments_lexer": "ipython3",
   "version": "3.11.7"
  }
 },
 "nbformat": 4,
 "nbformat_minor": 2
}
