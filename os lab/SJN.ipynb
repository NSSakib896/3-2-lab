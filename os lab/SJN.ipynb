{
 "cells": [
  {
   "cell_type": "code",
   "execution_count": 25,
   "metadata": {},
   "outputs": [
    {
     "name": "stdout",
     "output_type": "stream",
     "text": [
      "[['p2', 3, 3], ['p3', 6, 2], ['p1', 1, 7]]\n"
     ]
    }
   ],
   "source": [
    "#name,arrival time,burst time\n",
    "#process=[\n",
    "#    ['p2',3,3],\n",
    "#    ['p3',6,2],\n",
    "#    ['p1',1,7]\n",
    "#]\n",
    "from input import take_input\n",
    "process=take_input()\n",
    "process.sort(key=lambda x:x[1],reverse=True)\n",
    "\n",
    "import copy\n",
    "temp=copy.deepcopy(process)"
   ]
  },
  {
   "cell_type": "code",
   "execution_count": 26,
   "metadata": {},
   "outputs": [],
   "source": [
    "arrived=[]\n",
    "#processname,ct\n",
    "result=[]"
   ]
  },
  {
   "cell_type": "code",
   "execution_count": 27,
   "metadata": {},
   "outputs": [],
   "source": [
    "time=0\n",
    "t=[]\n",
    "while(arrived or temp):\n",
    "    if not arrived:\n",
    "        t=temp.pop()\n",
    "        arrived.append(t)\n",
    "    while(temp and (temp[len(temp)-1][1]==t[2] or temp[len(temp)-1][1]<=time)):\n",
    "            t=temp.pop()\n",
    "            arrived.append(t)\n",
    "    arrived.sort(key=lambda x:x[2],reverse=True)\n",
    "    \n",
    "    pick=arrived.pop()\n",
    "    pick_id=pick[0]\n",
    "    pick_at=pick[1]\n",
    "    pick_bt=pick[2]\n",
    "    if pick_at>time:\n",
    "        time=pick_at\n",
    "    time=time+pick_bt\n",
    "    pick_ct=time\n",
    "    result.append([pick_id,pick_ct])\n",
    "    "
   ]
  },
  {
   "cell_type": "code",
   "execution_count": 28,
   "metadata": {},
   "outputs": [
    {
     "name": "stdout",
     "output_type": "stream",
     "text": [
      "['p_id', 'p_tat', 'p_wt']\n",
      "['p1', 7, 0]\n",
      "['p2', 10, 7]\n",
      "['p3', 4, 2]\n",
      "average tat = 7.0\n",
      "average wt = 3.0\n"
     ]
    }
   ],
   "source": [
    "from calculate import calculate_parameters\n",
    "calculate_parameters(process,result)"
   ]
  },
  {
   "cell_type": "code",
   "execution_count": 29,
   "metadata": {},
   "outputs": [
    {
     "name": "stdout",
     "output_type": "stream",
     "text": [
      "['p_id', 'p_tat', 'p_wt']\n",
      "['p1', 7, 0]\n",
      "['p2', 10, 7]\n",
      "['p3', 4, 2]\n",
      "average tat = 7.0\n",
      "average wt = 3.0\n"
     ]
    },
    {
     "data": {
      "text/html": [
       "<div>\n",
       "<style scoped>\n",
       "    .dataframe tbody tr th:only-of-type {\n",
       "        vertical-align: middle;\n",
       "    }\n",
       "\n",
       "    .dataframe tbody tr th {\n",
       "        vertical-align: top;\n",
       "    }\n",
       "\n",
       "    .dataframe thead th {\n",
       "        text-align: right;\n",
       "    }\n",
       "</style>\n",
       "<table border=\"1\" class=\"dataframe\">\n",
       "  <thead>\n",
       "    <tr style=\"text-align: right;\">\n",
       "      <th></th>\n",
       "    </tr>\n",
       "  </thead>\n",
       "  <tbody>\n",
       "  </tbody>\n",
       "</table>\n",
       "</div>"
      ],
      "text/plain": [
       "Empty DataFrame\n",
       "Columns: []\n",
       "Index: []"
      ]
     },
     "execution_count": 29,
     "metadata": {},
     "output_type": "execute_result"
    }
   ],
   "source": [
    "import pandas as pd\n",
    "t=pd.DataFrame(calculate_parameters(process,result))\n",
    "t"
   ]
  },
  {
   "cell_type": "code",
   "execution_count": 30,
   "metadata": {},
   "outputs": [
    {
     "name": "stdout",
     "output_type": "stream",
     "text": [
      "Empty DataFrame\n",
      "Columns: []\n",
      "Index: []\n"
     ]
    }
   ],
   "source": [
    "print(t)"
   ]
  },
  {
   "cell_type": "code",
   "execution_count": null,
   "metadata": {},
   "outputs": [],
   "source": []
  }
 ],
 "metadata": {
  "kernelspec": {
   "display_name": "base",
   "language": "python",
   "name": "python3"
  },
  "language_info": {
   "codemirror_mode": {
    "name": "ipython",
    "version": 3
   },
   "file_extension": ".py",
   "mimetype": "text/x-python",
   "name": "python",
   "nbconvert_exporter": "python",
   "pygments_lexer": "ipython3",
   "version": "3.11.7"
  }
 },
 "nbformat": 4,
 "nbformat_minor": 2
}
