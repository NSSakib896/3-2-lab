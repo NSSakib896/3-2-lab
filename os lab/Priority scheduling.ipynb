{
 "cells": [
  {
   "cell_type": "code",
   "execution_count": 24,
   "metadata": {},
   "outputs": [],
   "source": [
    "#name,arrival time,burst time,priority\n",
    "#process=[\n",
    "#    ['p1',0,3,2],\n",
    "#    ['p2',2,5,4],\n",
    "#    ['p3',1,4,3]\n",
    "#]\n",
    "from input import take_input\n",
    "process=take_input()\n",
    "process.sort(key=lambda x:x[1],reverse=True)\n",
    "import copy\n",
    "temp=copy.deepcopy(process)"
   ]
  },
  {
   "cell_type": "code",
   "execution_count": 25,
   "metadata": {},
   "outputs": [],
   "source": [
    "arrived=[]\n",
    "#processname,ct\n",
    "result=[]"
   ]
  },
  {
   "cell_type": "code",
   "execution_count": 26,
   "metadata": {},
   "outputs": [],
   "source": [
    "time=0\n",
    "t=[]\n",
    "while(arrived or temp):\n",
    "    if not arrived:\n",
    "        t=temp.pop()\n",
    "        arrived.append(t)\n",
    "    while(temp and (temp[len(temp)-1][1]==t[2] or temp[len(temp)-1][1]<=time)):\n",
    "            t=temp.pop()\n",
    "            arrived.append(t)\n",
    "    arrived.sort(key=lambda x:x[3],reverse=True)    \n",
    "    pick=arrived.pop()\n",
    "    pick_id=pick[0]\n",
    "    pick_at=pick[1]\n",
    "    pick_bt=pick[2]\n",
    "    if pick_at>time:\n",
    "        time=pick_at\n",
    "    time=time+pick_bt\n",
    "    pick_ct=time\n",
    "    result.append([pick_id,pick_ct])\n",
    "    "
   ]
  },
  {
   "cell_type": "code",
   "execution_count": 27,
   "metadata": {},
   "outputs": [
    {
     "name": "stdout",
     "output_type": "stream",
     "text": [
      "[['p1', 3], ['p3', 7], ['p2', 12]]\n"
     ]
    }
   ],
   "source": [
    "print(result)"
   ]
  },
  {
   "cell_type": "code",
   "execution_count": null,
   "metadata": {},
   "outputs": [],
   "source": []
  }
 ],
 "metadata": {
  "kernelspec": {
   "display_name": "base",
   "language": "python",
   "name": "python3"
  },
  "language_info": {
   "codemirror_mode": {
    "name": "ipython",
    "version": 3
   },
   "file_extension": ".py",
   "mimetype": "text/x-python",
   "name": "python",
   "nbconvert_exporter": "python",
   "pygments_lexer": "ipython3",
   "version": "3.11.7"
  }
 },
 "nbformat": 4,
 "nbformat_minor": 2
}
