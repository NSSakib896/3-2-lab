{
 "cells": [
  {
   "cell_type": "code",
   "execution_count": 3,
   "metadata": {},
   "outputs": [],
   "source": [
    "import numpy as np  "
   ]
  },
  {
   "cell_type": "code",
   "execution_count": 4,
   "metadata": {},
   "outputs": [],
   "source": [
    "block_number=int(input(\"Enter the number of memory blocks: \"))\n",
    "block_size=np.zeros(block_number,dtype=int)\n",
    "\n",
    "for i in range(block_number):\n",
    "    block_size[i]=int(input(\"Enter the size of block \"+str(i+1)+\": \"))\n"
   ]
  },
  {
   "cell_type": "code",
   "execution_count": 5,
   "metadata": {},
   "outputs": [
    {
     "data": {
      "text/plain": [
       "array([ 50,  75, 150, 175, 300])"
      ]
     },
     "execution_count": 5,
     "metadata": {},
     "output_type": "execute_result"
    }
   ],
   "source": [
    "block_size"
   ]
  },
  {
   "cell_type": "code",
   "execution_count": 7,
   "metadata": {},
   "outputs": [],
   "source": [
    "process_number=int(input(\"Enter the number of processes: \"))\n",
    "process_size=np.zeros(process_number,dtype=int)\n",
    "\n",
    "for i in range(process_number):\n",
    "    process_size[i]=int(input(\"Enter the size of process \"+str(i+1)+\": \"))"
   ]
  },
  {
   "cell_type": "code",
   "execution_count": null,
   "metadata": {},
   "outputs": [
    {
     "data": {
      "text/plain": [
       "array([80])"
      ]
     },
     "metadata": {},
     "output_type": "display_data"
    }
   ],
   "source": [
    "process_size"
   ]
  },
  {
   "cell_type": "code",
   "execution_count": 12,
   "metadata": {},
   "outputs": [
    {
     "data": {
      "text/plain": [
       "array([False,  True, False,  True, False])"
      ]
     },
     "execution_count": 12,
     "metadata": {},
     "output_type": "execute_result"
    }
   ],
   "source": [
    "#input for block status\n",
    "free_block = np.zeros(block_number,dtype=bool)\n",
    "for i in range(block_number):\n",
    "    free_block[i] = bool(int(input(\"Enter 1 if block \"+str(i+1)+\"is free, 0 if block \"+str(i+1)+\"is allocated: \")))\n",
    "free_block"
   ]
  },
  {
   "cell_type": "code",
   "execution_count": 10,
   "metadata": {},
   "outputs": [],
   "source": [
    "\n",
    "allocated_process = np.zeros(process_number,dtype=bool)\n",
    "\n",
    "allocation_map = [[\"process\",\"allocated block\"]]\n",
    "\n",
    "for i in range(process_number):\n",
    "    target_block = -1\n",
    "    for j in range(block_number):\n",
    "        \n",
    "        if block_size[j]>=process_size[i] and  free_block[j]:\n",
    "            if(target_block==-1):\n",
    "                target_block = j\n",
    "            elif(block_size[target_block]>=block_size[j]):\n",
    "                target_block = j\n",
    "            \n",
    "    if(target_block!=-1):\n",
    "        allocated_process[i] = True\n",
    "        allocation_map.append([\"process:\"+str(i+1),\"block:\"+str(target_block+1)])\n",
    "        block_size[target_block] -= process_size[i]\n",
    "        if block_size[target_block]==0:\n",
    "                free_block[target_block]=False\n",
    "        \n",
    "    if(allocated_process[i] == False):\n",
    "        allocation_map.append([\"process:\"+str(i+1),\"not allocated\"])"
   ]
  },
  {
   "cell_type": "code",
   "execution_count": 11,
   "metadata": {},
   "outputs": [
    {
     "data": {
      "text/plain": [
       "[['process', 'allocated block'],\n",
       " ['process:1', 'block:2'],\n",
       " ['process:2', 'block:2'],\n",
       " ['process:3', 'block:4'],\n",
       " ['process:4', 'block:4']]"
      ]
     },
     "execution_count": 11,
     "metadata": {},
     "output_type": "execute_result"
    }
   ],
   "source": [
    "allocation_map"
   ]
  },
  {
   "cell_type": "code",
   "execution_count": null,
   "metadata": {},
   "outputs": [
    {
     "data": {
      "text/plain": [
       "array([100,   0,  83,  75, 100])"
      ]
     },
     "metadata": {},
     "output_type": "display_data"
    }
   ],
   "source": [
    "block_size"
   ]
  }
 ],
 "metadata": {
  "kernelspec": {
   "display_name": "base",
   "language": "python",
   "name": "python3"
  },
  "language_info": {
   "codemirror_mode": {
    "name": "ipython",
    "version": 3
   },
   "file_extension": ".py",
   "mimetype": "text/x-python",
   "name": "python",
   "nbconvert_exporter": "python",
   "pygments_lexer": "ipython3",
   "version": "3.11.7"
  }
 },
 "nbformat": 4,
 "nbformat_minor": 2
}
