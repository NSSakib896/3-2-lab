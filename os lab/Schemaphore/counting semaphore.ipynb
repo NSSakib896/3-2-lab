{
 "cells": [
  {
   "cell_type": "code",
   "execution_count": 25,
   "metadata": {},
   "outputs": [],
   "source": [
    "#declair semaphore\n",
    "S=2\n",
    "import time"
   ]
  },
  {
   "cell_type": "code",
   "execution_count": 26,
   "metadata": {},
   "outputs": [],
   "source": [
    "def wait():\n",
    "    global S\n",
    "    while S<=0:\n",
    "        print(\"waiting for release lock\")\n",
    "        time.sleep(1)\n",
    "    print(\"entering critical section\")\n",
    "    S-=1\n",
    "\n",
    "def signal():\n",
    "    global S\n",
    "    print(\"exiting critical section\")\n",
    "    S+=1"
   ]
  },
  {
   "cell_type": "code",
   "execution_count": 27,
   "metadata": {},
   "outputs": [],
   "source": [
    "def critical_section(thread_no):\n",
    "    wait()\n",
    "    print(thread_no+\"in critical section\")\n",
    "    sum=0\n",
    "    for i in range(1000):\n",
    "        for j in range(1000):\n",
    "            sum+=i\n",
    "    print(thread_no+str(sum))\n",
    "    signal()"
   ]
  },
  {
   "cell_type": "code",
   "execution_count": 28,
   "metadata": {},
   "outputs": [
    {
     "name": "stdout",
     "output_type": "stream",
     "text": [
      "waiting for release lock\n",
      "waiting for release lock\n",
      "waiting for release lock\n",
      "entering critical section\n",
      "t4in critical section\n",
      "waiting for release lock\n",
      "t4499500000\n",
      "exiting critical section\n",
      "entering critical section\n",
      "t1in critical section\n",
      "waiting for release lock\n",
      "waiting for release lock\n",
      "t1499500000\n",
      "exiting critical section\n",
      "entering critical section\n",
      "t5in critical section\n",
      "t5499500000\n",
      "exiting critical section\n",
      "entering critical section\n",
      "t2in critical section\n",
      "t2499500000\n",
      "exiting critical section\n",
      "entering critical section\n",
      "t3in critical section\n",
      "t3499500000\n",
      "exiting critical section\n"
     ]
    }
   ],
   "source": [
    "import threading\n",
    "\n",
    "t1=threading.Thread(target=critical_section,args=(\"t1\",))\n",
    "t2=threading.Thread(target=critical_section,args=(\"t2\",))\n",
    "t3=threading.Thread(target=critical_section,args=(\"t3\",))\n",
    "t4=threading.Thread(target=critical_section,args=(\"t4\",))\n",
    "t5=threading.Thread(target=critical_section,args=(\"t5\",))\n",
    "t1.start()\n",
    "t2.start()\n",
    "t3.start()\n",
    "\n",
    "t4.start()\n",
    "t5.start()\n",
    "#S=1\n",
    "t1.join()\n",
    "t2.join()\n",
    "t3.join()\n",
    "t4.join()\n",
    "t5.join()"
   ]
  },
  {
   "cell_type": "code",
   "execution_count": null,
   "metadata": {},
   "outputs": [],
   "source": []
  }
 ],
 "metadata": {
  "kernelspec": {
   "display_name": "base",
   "language": "python",
   "name": "python3"
  },
  "language_info": {
   "codemirror_mode": {
    "name": "ipython",
    "version": 3
   },
   "file_extension": ".py",
   "mimetype": "text/x-python",
   "name": "python",
   "nbconvert_exporter": "python",
   "pygments_lexer": "ipython3",
   "version": "3.11.7"
  }
 },
 "nbformat": 4,
 "nbformat_minor": 2
}
