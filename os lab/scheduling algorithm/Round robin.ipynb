{
 "cells": [
  {
   "cell_type": "code",
   "execution_count": 24,
   "metadata": {},
   "outputs": [
    {
     "data": {
      "text/plain": [
       "[['p1', 0, 7],\n",
       " ['p2', 1, 4],\n",
       " ['p3', 2, 15],\n",
       " ['p4', 3, 11],\n",
       " ['p5', 4, 20],\n",
       " ['p6', 4, 9]]"
      ]
     },
     "execution_count": 24,
     "metadata": {},
     "output_type": "execute_result"
    }
   ],
   "source": [
    "import numpy as np\n",
    "#p_id,at,bt\n",
    "\n",
    "process=[\n",
    "    ['p1',0,7],\n",
    "    ['p2',1,4],\n",
    "    ['p3',2,15],\n",
    "    ['p4',3,11],\n",
    "    ['p5',4,20],\n",
    "    ['p6',4,9]\n",
    "]\n",
    "time_quanta=5\n",
    "import copy\n",
    "temp=copy.deepcopy(process)\n",
    "temp.sort(key=lambda x:x[1],reverse=False)\n",
    "temp"
   ]
  },
  {
   "cell_type": "code",
   "execution_count": 25,
   "metadata": {},
   "outputs": [],
   "source": [
    "queue=[]\n",
    "queue.append(temp[0])"
   ]
  },
  {
   "cell_type": "code",
   "execution_count": 26,
   "metadata": {},
   "outputs": [
    {
     "name": "stdout",
     "output_type": "stream",
     "text": [
      "added ['p2', 1, 4]\n",
      "added ['p3', 2, 15]\n",
      "added ['p4', 3, 11]\n",
      "added ['p5', 4, 20]\n",
      "added ['p6', 4, 9]\n",
      "['p1', 0, 2]\n",
      "['p2', 1, 0]\n",
      "['p3', 2, 10]\n",
      "['p4', 3, 6]\n",
      "['p5', 4, 15]\n",
      "['p6', 4, 4]\n",
      "['p1', 0, 0]\n",
      "['p3', 2, 5]\n",
      "['p4', 3, 1]\n",
      "['p5', 4, 10]\n",
      "['p6', 4, 0]\n",
      "['p3', 2, 0]\n",
      "['p4', 3, 0]\n",
      "['p5', 4, 5]\n",
      "['p5', 4, 0]\n"
     ]
    }
   ],
   "source": [
    "time = 0\n",
    "result = [[\"process\",\"completion time\"]]\n",
    "in_queue = np.zeros(len(process))\n",
    "in_queue[0]=1\n",
    "for pick in queue:\n",
    "    if pick[2]<=time_quanta:\n",
    "        time = time + pick[2]\n",
    "        pick[2]=0\n",
    "        result.append([pick[0],time])\n",
    "    else:\n",
    "        time = time + time_quanta\n",
    "        pick[2]=pick[2]-time_quanta\n",
    "    \n",
    "    for i in range(len(process)):\n",
    "        if process[i][1]<=time and in_queue[i]==0:\n",
    "            queue.append(process[i])\n",
    "            in_queue[i]=1\n",
    "            print(\"added\",process[i])\n",
    "    \n",
    "    if pick[2]:\n",
    "        queue.append(pick)\n",
    "    print(pick)"
   ]
  },
  {
   "cell_type": "code",
   "execution_count": 27,
   "metadata": {},
   "outputs": [
    {
     "data": {
      "text/plain": [
       "[['p1', 0, 0],\n",
       " ['p2', 1, 0],\n",
       " ['p3', 2, 0],\n",
       " ['p4', 3, 0],\n",
       " ['p5', 4, 0],\n",
       " ['p6', 4, 0],\n",
       " ['p1', 0, 0],\n",
       " ['p3', 2, 0],\n",
       " ['p4', 3, 0],\n",
       " ['p5', 4, 0],\n",
       " ['p6', 4, 0],\n",
       " ['p3', 2, 0],\n",
       " ['p4', 3, 0],\n",
       " ['p5', 4, 0],\n",
       " ['p5', 4, 0]]"
      ]
     },
     "execution_count": 27,
     "metadata": {},
     "output_type": "execute_result"
    }
   ],
   "source": [
    "queue"
   ]
  },
  {
   "cell_type": "code",
   "execution_count": 28,
   "metadata": {},
   "outputs": [
    {
     "data": {
      "text/plain": [
       "[['process', 'completion time'],\n",
       " ['p2', 9],\n",
       " ['p1', 31],\n",
       " ['p6', 50],\n",
       " ['p3', 55],\n",
       " ['p4', 56],\n",
       " ['p5', 66]]"
      ]
     },
     "execution_count": 28,
     "metadata": {},
     "output_type": "execute_result"
    }
   ],
   "source": [
    "result"
   ]
  },
  {
   "cell_type": "code",
   "execution_count": null,
   "metadata": {},
   "outputs": [],
   "source": []
  }
 ],
 "metadata": {
  "kernelspec": {
   "display_name": "base",
   "language": "python",
   "name": "python3"
  },
  "language_info": {
   "codemirror_mode": {
    "name": "ipython",
    "version": 3
   },
   "file_extension": ".py",
   "mimetype": "text/x-python",
   "name": "python",
   "nbconvert_exporter": "python",
   "pygments_lexer": "ipython3",
   "version": "3.11.7"
  }
 },
 "nbformat": 4,
 "nbformat_minor": 2
}
