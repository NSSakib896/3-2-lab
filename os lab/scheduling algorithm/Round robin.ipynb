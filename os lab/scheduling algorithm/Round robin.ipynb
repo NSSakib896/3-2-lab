{
 "cells": [
  {
   "cell_type": "code",
   "execution_count": 44,
   "metadata": {},
   "outputs": [
    {
     "data": {
      "text/plain": [
       "[['p5', 4, 20],\n",
       " ['p6', 4, 9],\n",
       " ['p4', 3, 11],\n",
       " ['p3', 2, 15],\n",
       " ['p2', 1, 4],\n",
       " ['p1', 0, 7]]"
      ]
     },
     "execution_count": 44,
     "metadata": {},
     "output_type": "execute_result"
    }
   ],
   "source": [
    "#p_id,at,bt\n",
    "\n",
    "process=[\n",
    "    ['p1',0,7],\n",
    "    ['p2',1,4],\n",
    "    ['p3',2,15],\n",
    "    ['p4',3,11],\n",
    "    ['p5',4,20],\n",
    "    ['p6',4,9]\n",
    "]\n",
    "q=5\n",
    "import copy\n",
    "temp=copy.deepcopy(process)\n",
    "temp.sort(key=lambda x:x[1],reverse=True)\n",
    "temp"
   ]
  },
  {
   "cell_type": "code",
   "execution_count": 45,
   "metadata": {},
   "outputs": [],
   "source": [
    "result=[]\n",
    "queue=[]"
   ]
  },
  {
   "cell_type": "code",
   "execution_count": 46,
   "metadata": {},
   "outputs": [
    {
     "name": "stdout",
     "output_type": "stream",
     "text": [
      "[['p1', 0, 7]]\n",
      "[['p1', 0, 2], ['p2', 1, 4], ['p3', 2, 15], ['p4', 3, 11], ['p5', 4, 20], ['p6', 4, 9]]\n",
      "[['p1', 0, 2], ['p3', 2, 15], ['p4', 3, 11], ['p5', 4, 20], ['p6', 4, 9]]\n",
      "[['p1', 0, 2], ['p3', 2, 10], ['p4', 3, 11], ['p5', 4, 20], ['p6', 4, 9]]\n",
      "[['p1', 0, 2], ['p3', 2, 10], ['p4', 3, 6], ['p5', 4, 20], ['p6', 4, 9]]\n",
      "[['p1', 0, 2], ['p3', 2, 10], ['p4', 3, 6], ['p5', 4, 15], ['p6', 4, 9]]\n",
      "[['p1', 0, 2], ['p3', 2, 10], ['p4', 3, 6], ['p5', 4, 15], ['p6', 4, 4]]\n",
      "[['p3', 2, 10], ['p4', 3, 6], ['p5', 4, 15], ['p6', 4, 4]]\n",
      "[['p3', 2, 5], ['p4', 3, 6], ['p5', 4, 15], ['p6', 4, 4]]\n",
      "[['p3', 2, 5], ['p4', 3, 1], ['p5', 4, 15], ['p6', 4, 4]]\n",
      "[['p3', 2, 5], ['p4', 3, 1], ['p5', 4, 10], ['p6', 4, 4]]\n",
      "[['p3', 2, 5], ['p4', 3, 1], ['p5', 4, 10]]\n",
      "[['p4', 3, 1], ['p5', 4, 10]]\n",
      "[['p5', 4, 10]]\n",
      "[['p5', 4, 5]]\n"
     ]
    }
   ],
   "source": [
    "arrived=[]\n",
    "time=0\n",
    "t=[]\n",
    "i=-1\n",
    "while(arrived or temp):\n",
    "    if not arrived:\n",
    "        t=temp.pop()\n",
    "        arrived.append(t)\n",
    "    \n",
    "    while(temp and (temp[len(temp)-1][1]==t[2] or temp[len(temp)-1][1]<=time)):\n",
    "        t=temp.pop()\n",
    "        arrived.append(t)\n",
    "    arrived.sort(key=lambda x:x[0],reverse=False)\n",
    "    \n",
    "    print(arrived)\n",
    "    \n",
    "    i+=1\n",
    "    if i>len(arrived)-1:\n",
    "        i=0\n",
    "    pick=arrived[i]\n",
    "    pick_id=pick[0]\n",
    "    pick_at=pick[1]\n",
    "    pick_bt=pick[2]\n",
    "    if pick_at>time:\n",
    "        time=pick_at\n",
    "    if pick_bt<=q:\n",
    "        time=time+pick_bt\n",
    "        pick_ct=time\n",
    "        result.append([pick_id,pick_ct])\n",
    "        queue.append(pick_id)\n",
    "        arrived.pop(i)\n",
    "        i-=1\n",
    "    else:\n",
    "        time=time+q\n",
    "        pick_left_bt=pick_bt-q\n",
    "        arrived[i]=([pick_id,pick_at,pick_left_bt])\n",
    "        queue.append(pick_id)\n"
   ]
  },
  {
   "cell_type": "code",
   "execution_count": 47,
   "metadata": {},
   "outputs": [
    {
     "name": "stdout",
     "output_type": "stream",
     "text": [
      "[['p1', 31], ['p2', 9], ['p3', 55], ['p4', 56], ['p5', 66], ['p6', 50]]\n"
     ]
    }
   ],
   "source": [
    "result.sort(key=lambda x:x[0])\n",
    "print(result)"
   ]
  },
  {
   "cell_type": "code",
   "execution_count": 48,
   "metadata": {},
   "outputs": [
    {
     "data": {
      "text/plain": [
       "['p1',\n",
       " 'p2',\n",
       " 'p3',\n",
       " 'p4',\n",
       " 'p5',\n",
       " 'p6',\n",
       " 'p1',\n",
       " 'p3',\n",
       " 'p4',\n",
       " 'p5',\n",
       " 'p6',\n",
       " 'p3',\n",
       " 'p4',\n",
       " 'p5',\n",
       " 'p5']"
      ]
     },
     "execution_count": 48,
     "metadata": {},
     "output_type": "execute_result"
    }
   ],
   "source": [
    "queue"
   ]
  },
  {
   "cell_type": "code",
   "execution_count": 49,
   "metadata": {},
   "outputs": [],
   "source": [
    "process\n",
    "process[1]=['p10',1,1]\n"
   ]
  },
  {
   "cell_type": "code",
   "execution_count": 50,
   "metadata": {},
   "outputs": [
    {
     "data": {
      "text/plain": [
       "[['p1', 0, 7],\n",
       " ['p10', 1, 1],\n",
       " ['p3', 2, 15],\n",
       " ['p4', 3, 11],\n",
       " ['p5', 4, 20],\n",
       " ['p6', 4, 9]]"
      ]
     },
     "execution_count": 50,
     "metadata": {},
     "output_type": "execute_result"
    }
   ],
   "source": [
    "process"
   ]
  },
  {
   "cell_type": "code",
   "execution_count": null,
   "metadata": {},
   "outputs": [],
   "source": []
  }
 ],
 "metadata": {
  "kernelspec": {
   "display_name": "base",
   "language": "python",
   "name": "python3"
  },
  "language_info": {
   "codemirror_mode": {
    "name": "ipython",
    "version": 3
   },
   "file_extension": ".py",
   "mimetype": "text/x-python",
   "name": "python",
   "nbconvert_exporter": "python",
   "pygments_lexer": "ipython3",
   "version": "3.11.7"
  }
 },
 "nbformat": 4,
 "nbformat_minor": 2
}
