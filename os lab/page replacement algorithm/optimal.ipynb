{
 "cells": [
  {
   "cell_type": "code",
   "execution_count": 419,
   "metadata": {},
   "outputs": [],
   "source": [
    "import numpy as np "
   ]
  },
  {
   "cell_type": "code",
   "execution_count": 420,
   "metadata": {},
   "outputs": [],
   "source": [
    "str_length = int(input())\n",
    "str = np.zeros(str_length, dtype=int)\n",
    "for i in range(str_length):\n",
    "    str[i] = int(input())\n",
    "str"
   ]
  },
  {
   "cell_type": "code",
   "execution_count": 422,
   "metadata": {},
   "outputs": [],
   "source": [
    "frame_number = 3\n",
    "#frame = np.zeros(frame_number, dtype=int)\n",
    "frame = np.array([-1, -1, -1])"
   ]
  },
  {
   "cell_type": "code",
   "execution_count": 423,
   "metadata": {},
   "outputs": [],
   "source": [
    "def find_optimal_replace_index(current_index,str,frame):\n",
    "    if -1 in frame:\n",
    "        return np.where(frame == -1)[0][0]\n",
    "    farthest_index = -1\n",
    "    most_distance = 0\n",
    "    for i in range(len(frame)):\n",
    "        \n",
    "        for j in range(current_index+1,len(str)):\n",
    "            if frame[i]==str[j]:\n",
    "                break\n",
    "            j+=1\n",
    "            if j>most_distance:\n",
    "                most_distance=j\n",
    "                farthest_index=i\n",
    "    return farthest_index"
   ]
  },
  {
   "cell_type": "code",
   "execution_count": 424,
   "metadata": {},
   "outputs": [
    {
     "name": "stdout",
     "output_type": "stream",
     "text": [
      "[ 7 -1 -1]\n",
      "[ 7  0 -1]\n",
      "[7 0 1]\n",
      "17\n",
      "4\n",
      "13\n",
      "[2 0 1]\n",
      "[2 0 1]\n",
      "8\n",
      "6\n",
      "13\n",
      "[2 0 3]\n",
      "[2 0 3]\n",
      "8\n",
      "10\n",
      "9\n",
      "[2 4 3]\n",
      "[2 4 3]\n",
      "[2 4 3]\n",
      "12\n",
      "11\n",
      "[2 0 3]\n",
      "[2 0 3]\n",
      "[2 0 3]\n",
      "14\n",
      "15\n",
      "[2 0 1]\n",
      "[2 0 1]\n",
      "[2 0 1]\n",
      "[2 0 1]\n",
      "18\n",
      "19\n",
      "[7 0 1]\n",
      "[7 0 1]\n",
      "[7 0 1]\n"
     ]
    }
   ],
   "source": [
    "\n",
    "hit_count = 0\n",
    "miss_count = 0\n",
    "current_index = 0\n",
    "for page in str:\n",
    "    if page in frame:\n",
    "        hit_count+=1\n",
    "        current_index+=1\n",
    "        continue\n",
    "    miss_count+=1\n",
    "    replace_index = find_optimal_replace_index(current_index, str, frame)\n",
    "    frame[replace_index] = page\n",
    "    current_index+=1"
   ]
  },
  {
   "cell_type": "code",
   "execution_count": 425,
   "metadata": {},
   "outputs": [],
   "source": [
    "if -1 in frame:\n",
    "    print(np.where(frame == -1)[0][0])"
   ]
  },
  {
   "cell_type": "code",
   "execution_count": 426,
   "metadata": {},
   "outputs": [
    {
     "name": "stdout",
     "output_type": "stream",
     "text": [
      "11\n",
      "9\n"
     ]
    }
   ],
   "source": [
    "print(hit_count)\n",
    "print(miss_count)"
   ]
  },
  {
   "cell_type": "code",
   "execution_count": null,
   "metadata": {},
   "outputs": [],
   "source": []
  }
 ],
 "metadata": {
  "kernelspec": {
   "display_name": "base",
   "language": "python",
   "name": "python3"
  },
  "language_info": {
   "codemirror_mode": {
    "name": "ipython",
    "version": 3
   },
   "file_extension": ".py",
   "mimetype": "text/x-python",
   "name": "python",
   "nbconvert_exporter": "python",
   "pygments_lexer": "ipython3",
   "version": "3.11.7"
  }
 },
 "nbformat": 4,
 "nbformat_minor": 2
}
