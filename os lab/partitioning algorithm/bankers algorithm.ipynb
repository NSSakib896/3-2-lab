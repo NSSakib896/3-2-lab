{
 "cells": [
  {
   "cell_type": "code",
   "execution_count": 1,
   "metadata": {},
   "outputs": [],
   "source": [
    "import numpy as np"
   ]
  },
  {
   "cell_type": "code",
   "execution_count": null,
   "metadata": {},
   "outputs": [],
   "source": [
    "resource=int(input(\"Enter the number of resources: \"))\n",
    "process=int(input(\"Enter the number of processes: \"))\n",
    "allocation = np.zeros((process, resource), dtype=int)\n",
    "max_demand = np.zeros((process, resource), dtype=int)\n",
    "available = np.zeros(resource, dtype=int)\n",
    "for i in range(process):\n",
    "    for j in range(resource):\n",
    "        allocation[i][j] = int(input(f\"Enter the allocation for process {i} and resource {j}: \"))\n",
    "for i in range(process):\n",
    "    for j in range(resource):\n",
    "        max_demand[i][j] = int(input(f\"Enter the maximum demand for process {i} and resource {j}: \"))\n",
    "for i in range(resource):\n",
    "    available[i] = int(input(\"Enter the available resources for resource : \"))\n",
    "    print(available)"
   ]
  },
  {
   "cell_type": "code",
   "execution_count": 20,
   "metadata": {},
   "outputs": [],
   "source": [
    "allocation = np.array([[0, 1, 0], [2, 0, 0], [3, 0, 2], [2, 1, 1], [0, 0, 2]])\n",
    "max_demand = np.array([[7, 5, 3], [3, 2, 2], [9, 0, 2], [2, 2, 2], [4, 3, 3]])\n",
    "available = np.array([3, 3, 2])"
   ]
  },
  {
   "cell_type": "code",
   "execution_count": 3,
   "metadata": {},
   "outputs": [],
   "source": [
    "def bankers_algorithm(allocation, max_demand, available):\n",
    "    work = available.copy()\n",
    "    finish = np.zeros(len(allocation), dtype=bool)\n",
    "    safe_sequence = []\n",
    "    #added for unsafe sequence\n",
    "    i=0\n",
    "    while not np.all(finish):\n",
    "        i+=1\n",
    "        for i in range(len(allocation)):\n",
    "            if finish[i]:\n",
    "                continue\n",
    "            if np.all(max_demand[i] - allocation[i] <= work):\n",
    "                work += allocation[i]\n",
    "                finish[i] = True\n",
    "                safe_sequence.append(i)\n",
    "                i=0\n",
    "        if i>process:#means all process is checked for allocation and can not be allocated\n",
    "            return -1\n",
    "    return safe_sequence"
   ]
  },
  {
   "cell_type": "code",
   "execution_count": 4,
   "metadata": {},
   "outputs": [
    {
     "name": "stdout",
     "output_type": "stream",
     "text": [
      "[1, 3, 4, 0, 2]\n"
     ]
    }
   ],
   "source": [
    "print(bankers_algorithm(allocation, max_demand, available))"
   ]
  },
  {
   "cell_type": "code",
   "execution_count": 14,
   "metadata": {},
   "outputs": [
    {
     "name": "stdout",
     "output_type": "stream",
     "text": [
      "[2 0 0]\n"
     ]
    }
   ],
   "source": [
    "print(available)\n",
    "#print(allocation)\n",
    "#print(max_demand)"
   ]
  },
  {
   "cell_type": "code",
   "execution_count": null,
   "metadata": {},
   "outputs": [],
   "source": []
  }
 ],
 "metadata": {
  "kernelspec": {
   "display_name": "base",
   "language": "python",
   "name": "python3"
  },
  "language_info": {
   "codemirror_mode": {
    "name": "ipython",
    "version": 3
   },
   "file_extension": ".py",
   "mimetype": "text/x-python",
   "name": "python",
   "nbconvert_exporter": "python",
   "pygments_lexer": "ipython3",
   "version": "3.11.7"
  }
 },
 "nbformat": 4,
 "nbformat_minor": 2
}
