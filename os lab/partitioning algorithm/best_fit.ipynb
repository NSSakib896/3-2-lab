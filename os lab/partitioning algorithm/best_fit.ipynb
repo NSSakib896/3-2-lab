{
 "cells": [
  {
   "cell_type": "code",
   "execution_count": null,
   "metadata": {},
   "outputs": [],
   "source": [
    "import numpy as np  "
   ]
  },
  {
   "cell_type": "code",
   "execution_count": null,
   "metadata": {},
   "outputs": [],
   "source": [
    "block_number=int(input(\"Enter the number of memory blocks: \"))\n",
    "block_size=np.zeros(block_number,dtype=int)\n",
    "\n",
    "for i in range(block_number):\n",
    "    block_size[i]=int(input(\"Enter the size of block \"+str(i+1)+\": \"))\n"
   ]
  },
  {
   "cell_type": "code",
   "execution_count": null,
   "metadata": {},
   "outputs": [
    {
     "data": {
      "text/plain": [
       "array([100,  80,  83,  75, 100])"
      ]
     },
     "metadata": {},
     "output_type": "display_data"
    }
   ],
   "source": [
    "block_size"
   ]
  },
  {
   "cell_type": "code",
   "execution_count": null,
   "metadata": {},
   "outputs": [],
   "source": [
    "process_number=int(input(\"Enter the number of processes: \"))\n",
    "process_size=np.zeros(process_number,dtype=int)\n",
    "\n",
    "for i in range(process_number):\n",
    "    process_size[i]=int(input(\"Enter the size of process \"+str(i+1)+\": \"))"
   ]
  },
  {
   "cell_type": "code",
   "execution_count": null,
   "metadata": {},
   "outputs": [
    {
     "data": {
      "text/plain": [
       "array([80])"
      ]
     },
     "metadata": {},
     "output_type": "display_data"
    }
   ],
   "source": [
    "process_size"
   ]
  },
  {
   "cell_type": "code",
   "execution_count": null,
   "metadata": {},
   "outputs": [],
   "source": [
    "#input for block status\n",
    "free_block = np.zeros(block_number,dtype=bool)\n",
    "for i in range(block_number):\n",
    "    free_block[i] = bool(input(\"Enter 1 if block \"+str(i+1)+\"is free, 0 if block \"+str(i+1)+\"is allocated: \"))"
   ]
  },
  {
   "cell_type": "code",
   "execution_count": null,
   "metadata": {},
   "outputs": [],
   "source": [
    "\n",
    "allocated_process = np.zeros(process_number,dtype=bool)\n",
    "\n",
    "allocation_map = [[\"process\",\"allocated block\"]]\n",
    "\n",
    "for i in range(process_number):\n",
    "    target_block = -1\n",
    "    for j in range(block_number):\n",
    "        \n",
    "        if block_size[j]>=process_size[i] and  free_block[j]:\n",
    "            if(target_block==-1):\n",
    "                target_block = j\n",
    "            elif(block_size[target_block]>=block_size[j]):\n",
    "                target_block = j\n",
    "            \n",
    "    if(target_block!=-1):\n",
    "        allocated_process[i] = True\n",
    "        allocation_map.append([\"process:\"+str(i+1),\"block:\"+str(target_block+1)])\n",
    "        free_block[target_block] = False\n",
    "        block_size[target_block] -= process_size[i]\n",
    "        if block_size[j]==0:\n",
    "                free_block[j]=False\n",
    "        \n",
    "    if(allocated_process[i] == False):\n",
    "        allocation_map.append([\"process:\"+str(i+1),\"not allocated\"])"
   ]
  },
  {
   "cell_type": "code",
   "execution_count": null,
   "metadata": {},
   "outputs": [
    {
     "data": {
      "text/plain": [
       "[['process', 'allocated block'], ['process:1', 'block:2']]"
      ]
     },
     "metadata": {},
     "output_type": "display_data"
    }
   ],
   "source": [
    "allocation_map"
   ]
  },
  {
   "cell_type": "code",
   "execution_count": null,
   "metadata": {},
   "outputs": [
    {
     "data": {
      "text/plain": [
       "array([100,   0,  83,  75, 100])"
      ]
     },
     "metadata": {},
     "output_type": "display_data"
    }
   ],
   "source": [
    "block_size"
   ]
  }
 ],
 "metadata": {
  "language_info": {
   "name": "python"
  }
 },
 "nbformat": 4,
 "nbformat_minor": 2
}
