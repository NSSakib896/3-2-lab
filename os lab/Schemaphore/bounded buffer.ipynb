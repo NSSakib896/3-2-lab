{
 "cells": [
  {
   "cell_type": "code",
   "execution_count": 2,
   "metadata": {},
   "outputs": [],
   "source": [
    "import threading\n",
    "import numpy as np"
   ]
  },
  {
   "cell_type": "code",
   "execution_count": 3,
   "metadata": {},
   "outputs": [],
   "source": [
    "capacity = 10\n",
    "buffer = np.zeros(capacity)\n",
    "producer_location = 0\n",
    "consumer_location = 0\n",
    "mutex = 1\n",
    "empty = 10\n",
    "full = 0"
   ]
  },
  {
   "cell_type": "code",
   "execution_count": null,
   "metadata": {},
   "outputs": [],
   "source": [
    "def acquire_mutex():\n",
    "    global mutex\n",
    "    while mutex<=0:\n",
    "        print(\"waiting for release mutex\")\n",
    "        time.sleep(1)\n",
    "    mutex-=1\n",
    "\n",
    "def release_mutex():\n",
    "    global mutex\n",
    "    print(\"releasing mutex\")\n",
    "    mutex+=1\n",
    "\n",
    "def acquire_empty():\n",
    "    global empty\n",
    "    while empty<=0:\n",
    "        print(\"waiting buffer to be empty\")\n",
    "        time.sleep(1)\n",
    "    empty-=1\n",
    "\n",
    "def release_empty():\n",
    "    global empty\n",
    "    print(\"releasing empty\")\n",
    "    empty+=1\n",
    "\n",
    "def acquire_full():\n",
    "    global full\n",
    "    while full<=0:\n",
    "        print(\"waiting buffer to be full\")\n",
    "        time.sleep(1)\n",
    "    full-=1\n",
    "\n",
    "def release_full():\n",
    "    global full\n",
    "    print(\"releasing full\")\n",
    "    full+=1"
   ]
  },
  {
   "cell_type": "code",
   "execution_count": null,
   "metadata": {},
   "outputs": [],
   "source": [
    "def producer():\n",
    "    for i in range(20):\n",
    "        acquire_mutex()\n",
    "        acquire_empty()\n",
    "        \n",
    "        buffer[producer_location] = i\n",
    "        producer_location+=1\n",
    "        producer_location%=10\n",
    "        print(\"producer produced: \",i)\n",
    "        \n",
    "        release_mutex()\n",
    "        release_full()\n",
    "\n",
    "def consumer():\n",
    "    for i in range(20):\n",
    "        acquire_mutex()\n",
    "        acquire_full()\n",
    "        \n",
    "        print(\"consumer consumed: \",buffer[consumer_location])\n",
    "        consumer_location+=1\n",
    "        consumer_location%=10\n",
    "        \n",
    "        release_mutex()\n",
    "        release_empty()"
   ]
  }
 ],
 "metadata": {
  "kernelspec": {
   "display_name": "base",
   "language": "python",
   "name": "python3"
  },
  "language_info": {
   "codemirror_mode": {
    "name": "ipython",
    "version": 3
   },
   "file_extension": ".py",
   "mimetype": "text/x-python",
   "name": "python",
   "nbconvert_exporter": "python",
   "pygments_lexer": "ipython3",
   "version": "3.11.7"
  }
 },
 "nbformat": 4,
 "nbformat_minor": 2
}
