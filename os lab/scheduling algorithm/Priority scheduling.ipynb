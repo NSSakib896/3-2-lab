{
 "cells": [
  {
   "cell_type": "code",
   "execution_count": 29,
   "metadata": {},
   "outputs": [],
   "source": [
    "import numpy as np\n",
    "\n",
    "process=[\n",
    "    ['p1',0,3,2],\n",
    "    ['p2',2,5,4],\n",
    "    ['p3',1,4,3]\n",
    "]\n",
    "process.sort(key=lambda x:x[1],reverse=False)"
   ]
  },
  {
   "cell_type": "code",
   "execution_count": 30,
   "metadata": {},
   "outputs": [
    {
     "data": {
      "text/plain": [
       "[['p1', 0, 3, 2], ['p3', 1, 4, 3], ['p2', 2, 5, 4]]"
      ]
     },
     "execution_count": 30,
     "metadata": {},
     "output_type": "execute_result"
    }
   ],
   "source": [
    "completed= np.zeros(len(process))\n",
    "time = 0\n",
    "result = [[\"process\", \"completion time\"]]\n",
    "while not np.all(completed):\n",
    "    selected = -1\n",
    "    selected_priority = 100000000\n",
    "    \n",
    "    for j in range(len(process)):\n",
    "        if process[j][1] <=time and completed[j] == 0 and process[j][3] < selected_priority:\n",
    "            selected = j\n",
    "            selected_priority = process[j][3]\n",
    "    if selected == -1:\n",
    "            time +=1\n",
    "            continue\n",
    "    \n",
    "    time = time + process[selected][2]\n",
    "    \n",
    "    result.append([process[selected][0], time])\n",
    "    completed[selected] = 1"
   ]
  },
  {
   "cell_type": "code",
   "execution_count": 32,
   "metadata": {},
   "outputs": [
    {
     "data": {
      "text/plain": [
       "[['process', 'completion time'], ['p1', 3], ['p3', 7], ['p2', 12]]"
      ]
     },
     "execution_count": 32,
     "metadata": {},
     "output_type": "execute_result"
    }
   ],
   "source": [
    "result"
   ]
  },
  {
   "cell_type": "code",
   "execution_count": null,
   "metadata": {},
   "outputs": [],
   "source": []
  }
 ],
 "metadata": {
  "kernelspec": {
   "display_name": "base",
   "language": "python",
   "name": "python3"
  },
  "language_info": {
   "codemirror_mode": {
    "name": "ipython",
    "version": 3
   },
   "file_extension": ".py",
   "mimetype": "text/x-python",
   "name": "python",
   "nbconvert_exporter": "python",
   "pygments_lexer": "ipython3",
   "version": "3.11.7"
  }
 },
 "nbformat": 4,
 "nbformat_minor": 2
}
